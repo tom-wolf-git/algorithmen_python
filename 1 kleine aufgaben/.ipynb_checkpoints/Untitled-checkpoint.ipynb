{
 "cells": [
  {
   "cell_type": "code",
   "execution_count": 2,
   "id": "relevant-witch",
   "metadata": {},
   "outputs": [
    {
     "name": "stdout",
     "output_type": "stream",
     "text": [
      "0\n",
      "1\n",
      "1\n",
      "2\n",
      "3\n",
      "5\n",
      "8\n",
      "13\n",
      "21\n",
      "34\n",
      "55\n",
      "89\n",
      "144\n",
      "233\n",
      "377\n",
      "610\n",
      "987\n",
      "1597\n",
      "2584\n",
      "4181\n",
      "6765\n",
      "10946\n",
      "17711\n",
      "28657\n",
      "46368\n",
      "75025\n",
      "121393\n",
      "196418\n",
      "317811\n",
      "514229\n",
      "832040\n",
      "1346269\n",
      "2178309\n",
      "3524578\n",
      "5702887\n",
      "9227465\n",
      "14930352\n",
      "24157817\n",
      "39088169\n",
      "63245986\n",
      "102334155\n",
      "165580141\n",
      "267914296\n",
      "433494437\n",
      "701408733\n",
      "1134903170\n",
      "1836311903\n",
      "2971215073\n",
      "4807526976\n",
      "7778742049\n",
      "12586269025\n"
     ]
    }
   ],
   "source": [
    "# fib6.py\n",
    "\n",
    "from typing import Generator\n",
    "\n",
    "\n",
    "def fib6(n: int) -> Generator[int, None, None]:\n",
    "    yield 0  # special case\n",
    "    if n > 0: yield 1  # Spezialfall\n",
    "    last: int = 0  # Am Anfang auf fib(0) setzen\n",
    "    next: int = 1  # Am Anfang auf fib(1) setzen\n",
    "    for _ in range(1, n):\n",
    "        last, next = next, last + next\n",
    "        yield next  # Haupt-Generatorschritt\n",
    "\n",
    "\n",
    "if __name__ == \"__main__\":\n",
    "    for i in fib6(50):\n",
    "        print(i)\n",
    "        "
   ]
  },
  {
   "cell_type": "code",
   "execution_count": null,
   "id": "armed-digest",
   "metadata": {},
   "outputs": [],
   "source": []
  }
 ],
 "metadata": {
  "kernelspec": {
   "display_name": "Python 3",
   "language": "python",
   "name": "python3"
  },
  "language_info": {
   "codemirror_mode": {
    "name": "ipython",
    "version": 3
   },
   "file_extension": ".py",
   "mimetype": "text/x-python",
   "name": "python",
   "nbconvert_exporter": "python",
   "pygments_lexer": "ipython3",
   "version": "3.9.1"
  }
 },
 "nbformat": 4,
 "nbformat_minor": 5
}
