{
 "cells": [
  {
   "cell_type": "markdown",
   "id": "hybrid-investigator",
   "metadata": {
    "tags": []
   },
   "source": [
    "## Hallo Welt!"
   ]
  },
  {
   "cell_type": "markdown",
   "id": "environmental-booth",
   "metadata": {},
   "source": [
    "$$fak(n) = \\prod_\n",
    "{i=1}^n i$$"
   ]
  },
  {
   "cell_type": "code",
   "execution_count": 1,
   "id": "pressed-extension",
   "metadata": {},
   "outputs": [],
   "source": [
    "def fak(n):\n",
    "    res = 1\n",
    "    for i in range(n):\n",
    "        res *= (i+1)\n",
    "    return res"
   ]
  },
  {
   "cell_type": "code",
   "execution_count": 2,
   "id": "basic-projector",
   "metadata": {},
   "outputs": [
    {
     "data": {
      "text/plain": [
       "120"
      ]
     },
     "execution_count": 2,
     "metadata": {},
     "output_type": "execute_result"
    }
   ],
   "source": [
    "fak(5)"
   ]
  },
  {
   "cell_type": "code",
   "execution_count": 3,
   "id": "warming-glass",
   "metadata": {},
   "outputs": [
    {
     "data": {
      "text/plain": [
       "2432902008176640000"
      ]
     },
     "execution_count": 3,
     "metadata": {},
     "output_type": "execute_result"
    }
   ],
   "source": [
    "fak(20)"
   ]
  },
  {
   "cell_type": "code",
   "execution_count": null,
   "id": "nominated-headset",
   "metadata": {},
   "outputs": [],
   "source": []
  }
 ],
 "metadata": {
  "kernelspec": {
   "display_name": "Python 3",
   "language": "python",
   "name": "python3"
  },
  "language_info": {
   "codemirror_mode": {
    "name": "ipython",
    "version": 3
   },
   "file_extension": ".py",
   "mimetype": "text/x-python",
   "name": "python",
   "nbconvert_exporter": "python",
   "pygments_lexer": "ipython3",
   "version": "3.9.1"
  }
 },
 "nbformat": 4,
 "nbformat_minor": 5
}
